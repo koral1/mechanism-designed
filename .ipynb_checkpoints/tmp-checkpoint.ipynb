{
 "cells": [
  {
   "cell_type": "code",
   "execution_count": null,
   "id": "8e20b9c2-432b-4c85-b0ff-2360d8dff2ed",
   "metadata": {},
   "outputs": [],
   "source": [
    "from transformers import AutoTokenizer\n",
    "tokenizer = AutoTokenizer.from_pretrained(\"Qwen/Qwen2.5-7B-Instruct\")\n",
    "tokenizer.add_tokens([\"true\", \"false\"])  # 新增标记的索引从`vocab_size`开始\n",
    "print(tokenizer(\"true\")[\"input_ids\"])  # 查看TRUE的索引\n",
    "print(tokenizer(\"false\")[\"input_ids\"])  # 查看TRUE的索引"
   ]
  },
  {
   "cell_type": "code",
   "execution_count": null,
   "id": "a5238fc3-7986-40f7-9404-74566cba430e",
   "metadata": {},
   "outputs": [],
   "source": []
  }
 ],
 "metadata": {
  "kernelspec": {
   "display_name": "Python 3 (ipykernel)",
   "language": "python",
   "name": "python3"
  },
  "language_info": {
   "codemirror_mode": {
    "name": "ipython",
    "version": 3
   },
   "file_extension": ".py",
   "mimetype": "text/x-python",
   "name": "python",
   "nbconvert_exporter": "python",
   "pygments_lexer": "ipython3",
   "version": "3.10.8"
  }
 },
 "nbformat": 4,
 "nbformat_minor": 5
}
